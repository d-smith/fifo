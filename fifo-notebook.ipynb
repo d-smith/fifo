{
 "cells": [
  {
   "cell_type": "code",
   "execution_count": null,
   "id": "5570980c",
   "metadata": {},
   "outputs": [],
   "source": [
    "import boto3"
   ]
  },
  {
   "cell_type": "code",
   "execution_count": null,
   "id": "bad750ee",
   "metadata": {},
   "outputs": [],
   "source": [
    "cf_client = boto3.client('cloudformation')"
   ]
  },
  {
   "cell_type": "code",
   "execution_count": null,
   "id": "00e9ce26",
   "metadata": {},
   "outputs": [],
   "source": [
    "cf_client.list_stacks()"
   ]
  },
  {
   "cell_type": "code",
   "execution_count": null,
   "id": "26e0214a",
   "metadata": {},
   "outputs": [],
   "source": [
    "stack_desc = cf_client.describe_stacks(\n",
    "    StackName='FifoStack'\n",
    ")\n",
    "\n",
    "outputs = stack_desc['Stacks'][0]['Outputs']\n",
    "print(outputs)"
   ]
  },
  {
   "cell_type": "code",
   "execution_count": null,
   "id": "59a4f8b7",
   "metadata": {},
   "outputs": [],
   "source": [
    "topic1Arn = [o['OutputValue'] for o in outputs if o['OutputKey'] == 'fifoTopic1Arn'][0] \n",
    "print(topic1Arn)\n",
    "topic2Arn = [o['OutputValue'] for o in outputs if o['OutputKey'] == 'fifoTopic2Arn'][0] \n",
    "print(topic2Arn)\n",
    "s1QueueUrl = [o['OutputValue'] for o in outputs if o['OutputKey'] == 's1QueueUrl'][0] \n",
    "print(s1QueueUrl)"
   ]
  },
  {
   "cell_type": "code",
   "execution_count": null,
   "id": "e86d889c",
   "metadata": {},
   "outputs": [],
   "source": [
    "sns_client = boto3.client('sns')\n",
    "sqs_client = boto3.client('sqs')"
   ]
  },
  {
   "cell_type": "code",
   "execution_count": null,
   "id": "a6254340",
   "metadata": {},
   "outputs": [],
   "source": [
    "sns_client.publish(\n",
    "    TopicArn=topic1Arn,\n",
    "    Message='{\"this\":false}',\n",
    "    MessageGroupId='xx'\n",
    ")"
   ]
  },
  {
   "cell_type": "code",
   "execution_count": null,
   "id": "aff32332",
   "metadata": {},
   "outputs": [],
   "source": [
    "sns_client.publish(\n",
    "    TopicArn=topic2Arn,\n",
    "    Message='{\"another\":true}',\n",
    "    MessageGroupId='xx'\n",
    ")"
   ]
  },
  {
   "cell_type": "code",
   "execution_count": null,
   "id": "0db21808",
   "metadata": {},
   "outputs": [],
   "source": [
    "sqs_response = sqs_client.receive_message(\n",
    "    QueueUrl=s1QueueUrl\n",
    ")\n",
    "print(sqs_response)\n",
    "\n",
    "if 'Messages'in sqs_response:\n",
    "    receiptHandle = sqs_response['Messages'][0]['ReceiptHandle']\n",
    "    print('delete message with handle {}'.format(receiptHandle))\n",
    "    sqs_client.delete_message(\n",
    "        QueueUrl=s1QueueUrl,\n",
    "        ReceiptHandle=sqs_response['Messages'][0]['ReceiptHandle']\n",
    "    )"
   ]
  },
  {
   "cell_type": "code",
   "execution_count": null,
   "id": "4abd0f3e",
   "metadata": {},
   "outputs": [],
   "source": []
  }
 ],
 "metadata": {
  "kernelspec": {
   "display_name": "Python 3",
   "language": "python",
   "name": "python3"
  },
  "language_info": {
   "codemirror_mode": {
    "name": "ipython",
    "version": 3
   },
   "file_extension": ".py",
   "mimetype": "text/x-python",
   "name": "python",
   "nbconvert_exporter": "python",
   "pygments_lexer": "ipython3",
   "version": "3.8.8"
  }
 },
 "nbformat": 4,
 "nbformat_minor": 5
}
