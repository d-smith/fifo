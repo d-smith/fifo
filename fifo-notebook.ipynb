{
 "cells": [
  {
   "cell_type": "code",
   "execution_count": null,
   "id": "5570980c",
   "metadata": {},
   "outputs": [],
   "source": [
    "import boto3"
   ]
  },
  {
   "cell_type": "code",
   "execution_count": null,
   "id": "bad750ee",
   "metadata": {},
   "outputs": [],
   "source": [
    "cf_client = boto3.client('cloudformation')"
   ]
  },
  {
   "cell_type": "code",
   "execution_count": null,
   "id": "00e9ce26",
   "metadata": {},
   "outputs": [],
   "source": [
    "cf_client.list_stacks()"
   ]
  },
  {
   "cell_type": "code",
   "execution_count": null,
   "id": "26e0214a",
   "metadata": {},
   "outputs": [],
   "source": [
    "stack_desc = cf_client.describe_stacks(\n",
    "    StackName='FifoStack'\n",
    ")\n",
    "\n",
    "outputs = stack_desc['Stacks'][0]['Outputs']\n",
    "print(outputs)"
   ]
  },
  {
   "cell_type": "code",
   "execution_count": null,
   "id": "59a4f8b7",
   "metadata": {},
   "outputs": [],
   "source": [
    "topic1Arn = [o['OutputValue'] for o in outputs if o['OutputKey'] == 'fifoTopic1Arn'][0] \n",
    "print(topic1Arn)\n",
    "topic2Arn = [o['OutputValue'] for o in outputs if o['OutputKey'] == 'fifoTopic2Arn'][0] \n",
    "print(topic2Arn)\n",
    "topic3Arn = [o['OutputValue'] for o in outputs if o['OutputKey'] == 'topic3Arn'][0] \n",
    "print(topic3Arn)\n",
    "s1QueueUrl = [o['OutputValue'] for o in outputs if o['OutputKey'] == 's1QueueUrl'][0] \n",
    "print(s1QueueUrl)\n",
    "s2QueueUrl = [o['OutputValue'] for o in outputs if o['OutputKey'] == 's2QueueUrl'][0] \n",
    "print(s2QueueUrl)"
   ]
  },
  {
   "cell_type": "code",
   "execution_count": null,
   "id": "e86d889c",
   "metadata": {},
   "outputs": [],
   "source": [
    "sns_client = boto3.client('sns')\n",
    "sqs_client = boto3.client('sqs')"
   ]
  },
  {
   "cell_type": "code",
   "execution_count": null,
   "id": "a6254340",
   "metadata": {},
   "outputs": [],
   "source": [
    "sns_client.publish(\n",
    "    TopicArn=topic2Arn,\n",
    "    Message='{\"this\":true,\"number\":1000004}',\n",
    "    MessageGroupId='x2a',\n",
    "    MessageAttributes={\n",
    "        'color': {\n",
    "            'DataType': 'String',\n",
    "            'StringValue': 'greenish'\n",
    "        }\n",
    "    }\n",
    ")"
   ]
  },
  {
   "cell_type": "code",
   "execution_count": null,
   "id": "c2326601",
   "metadata": {},
   "outputs": [],
   "source": [
    "sns_client.publish(\n",
    "    TopicArn=topic1Arn,\n",
    "    Message='{\"this\":false}',\n",
    "    MessageGroupId='x'\n",
    ")"
   ]
  },
  {
   "cell_type": "code",
   "execution_count": null,
   "id": "55487881",
   "metadata": {},
   "outputs": [],
   "source": [
    "sns_client.publish(\n",
    "    TopicArn=topic2Arn,\n",
    "    Message='{\"another\":true}',\n",
    "    MessageGroupId='xx'\n",
    ")"
   ]
  },
  {
   "cell_type": "code",
   "execution_count": null,
   "id": "0db21808",
   "metadata": {},
   "outputs": [],
   "source": [
    "sqs_response = sqs_client.receive_message(\n",
    "    QueueUrl=s1QueueUrl\n",
    ")\n",
    "print(sqs_response)\n",
    "\n",
    "if 'Messages'in sqs_response:\n",
    "    receiptHandle = sqs_response['Messages'][0]['ReceiptHandle']\n",
    "    print('delete message with handle {}'.format(receiptHandle))\n",
    "    sqs_client.delete_message(\n",
    "        QueueUrl=s1QueueUrl,\n",
    "        ReceiptHandle=sqs_response['Messages'][0]['ReceiptHandle']\n",
    "    )"
   ]
  },
  {
   "cell_type": "code",
   "execution_count": null,
   "id": "57eccf8e",
   "metadata": {},
   "outputs": [],
   "source": [
    "sns_client.publish(\n",
    "    TopicArn=topic3Arn,\n",
    "    Message='{\"another\":true}'\n",
    ")"
   ]
  },
  {
   "cell_type": "code",
   "execution_count": null,
   "id": "4abd0f3e",
   "metadata": {},
   "outputs": [],
   "source": [
    "sqs_response = sqs_client.receive_message(\n",
    "    QueueUrl=s2QueueUrl\n",
    ")\n",
    "print(sqs_response)\n",
    "\n",
    "if 'Messages'in sqs_response:\n",
    "    receiptHandle = sqs_response['Messages'][0]['ReceiptHandle']\n",
    "    print('delete message with handle {}'.format(receiptHandle))\n",
    "    sqs_client.delete_message(\n",
    "        QueueUrl=s2QueueUrl,\n",
    "        ReceiptHandle=sqs_response['Messages'][0]['ReceiptHandle']\n",
    "    )"
   ]
  },
  {
   "cell_type": "markdown",
   "id": "f34bef9f",
   "metadata": {},
   "source": [
    "### Fun with Ordering"
   ]
  },
  {
   "cell_type": "code",
   "execution_count": null,
   "id": "a5cdd7ea",
   "metadata": {},
   "outputs": [],
   "source": [
    "# First enqueue 3 messages in the same message group\n",
    "colors = [\"red\",\"green\",\"blue\"]\n",
    "for color in colors:\n",
    "    \n",
    "    sns_client.publish(\n",
    "        TopicArn=topic2Arn,\n",
    "        Message='{\"this\":true,\"color\":\"' + color + '\"}',\n",
    "        MessageGroupId='x',\n",
    "        MessageAttributes={\n",
    "            'color': {\n",
    "                'DataType': 'String',\n",
    "                'StringValue': color\n",
    "            }\n",
    "        }\n",
    "    )"
   ]
  },
  {
   "cell_type": "code",
   "execution_count": null,
   "id": "0212b1f5",
   "metadata": {},
   "outputs": [],
   "source": [
    "# Dequeue and delete the first, dequeue the second without an ack\n",
    "sqs_response = sqs_client.receive_message(\n",
    "    QueueUrl=s1QueueUrl\n",
    ")\n",
    "print(sqs_response)\n",
    "\n",
    "if 'Messages'in sqs_response:\n",
    "    receiptHandle = sqs_response['Messages'][0]['ReceiptHandle']\n",
    "    print('delete message with handle {}'.format(receiptHandle))\n",
    "    sqs_client.delete_message(\n",
    "        QueueUrl=s1QueueUrl,\n",
    "        ReceiptHandle=sqs_response['Messages'][0]['ReceiptHandle']\n",
    "    )\n",
    "    \n",
    "sqs_response = sqs_client.receive_message(\n",
    "    QueueUrl=s1QueueUrl\n",
    ")\n",
    "\n",
    "print(sqs_response)"
   ]
  },
  {
   "cell_type": "code",
   "execution_count": null,
   "id": "cce2f1ba",
   "metadata": {},
   "outputs": [],
   "source": [
    "# Dequeue the next - note green is repeatedly received, reappearing after the message visibility timeout expires\n",
    "# until the DLQ redrive kicks in an moves the message to the DLQ, or the message is deleted\n",
    "sqs_response = sqs_client.receive_message(\n",
    "    QueueUrl=s1QueueUrl\n",
    ")\n",
    "if 'Messages'in sqs_response:\n",
    "    print(sqs_response['Messages'][0]['Body'])\n",
    "else:\n",
    "    print(sqs_response)"
   ]
  },
  {
   "cell_type": "code",
   "execution_count": null,
   "id": "fe03c5f6",
   "metadata": {},
   "outputs": [],
   "source": [
    "# This time delete the message\n",
    "sqs_response = sqs_client.receive_message(\n",
    "    QueueUrl=s1QueueUrl\n",
    ")\n",
    "print(sqs_response)\n",
    "\n",
    "if 'Messages'in sqs_response:\n",
    "    print(sqs_response['Messages'][0]['Body'])\n",
    "    receiptHandle = sqs_response['Messages'][0]['ReceiptHandle']\n",
    "    print('delete message with handle {}'.format(receiptHandle))\n",
    "    sqs_client.delete_message(\n",
    "        QueueUrl=s1QueueUrl,\n",
    "        ReceiptHandle=sqs_response['Messages'][0]['ReceiptHandle']\n",
    "    )"
   ]
  },
  {
   "cell_type": "code",
   "execution_count": null,
   "id": "b6803662",
   "metadata": {},
   "outputs": [],
   "source": [
    "# Now dequeue again - blue is picked up\n",
    "# This time delete the message\n",
    "sqs_response = sqs_client.receive_message(\n",
    "    QueueUrl=s1QueueUrl\n",
    ")\n",
    "print(sqs_response)\n",
    "\n",
    "if 'Messages'in sqs_response:\n",
    "    print(sqs_response['Messages'][0]['Body'])\n",
    "    receiptHandle = sqs_response['Messages'][0]['ReceiptHandle']\n",
    "    print('delete message with handle {}'.format(receiptHandle))\n",
    "    sqs_client.delete_message(\n",
    "        QueueUrl=s1QueueUrl,\n",
    "        ReceiptHandle=sqs_response['Messages'][0]['ReceiptHandle']\n",
    "    )"
   ]
  },
  {
   "cell_type": "code",
   "execution_count": null,
   "id": "5be19d0f",
   "metadata": {},
   "outputs": [],
   "source": []
  }
 ],
 "metadata": {
  "kernelspec": {
   "display_name": "Python 3",
   "language": "python",
   "name": "python3"
  },
  "language_info": {
   "codemirror_mode": {
    "name": "ipython",
    "version": 3
   },
   "file_extension": ".py",
   "mimetype": "text/x-python",
   "name": "python",
   "nbconvert_exporter": "python",
   "pygments_lexer": "ipython3",
   "version": "3.8.8"
  }
 },
 "nbformat": 4,
 "nbformat_minor": 5
}
